{
 "cells": [
  {
   "cell_type": "code",
   "execution_count": null,
   "id": "18f429ef-281f-4468-a7f5-130295945018",
   "metadata": {},
   "outputs": [],
   "source": [
    "Q1.Ans - Guido van Rossum"
   ]
  },
  {
   "cell_type": "code",
   "execution_count": null,
   "id": "15a84833-d569-4e18-b54e-9d43b0ea5d1d",
   "metadata": {},
   "outputs": [],
   "source": [
    "Q2.ans-Python is a multi-paradigm programming language. Object-oriented programming and structured programming are fully supported"
   ]
  },
  {
   "cell_type": "code",
   "execution_count": null,
   "id": "51b5bba5-d861-4f79-82e1-269d94f1e2c3",
   "metadata": {},
   "outputs": [],
   "source": [
    "Q3.Ans- Yes"
   ]
  },
  {
   "cell_type": "code",
   "execution_count": null,
   "id": "db01d32b-a5ee-418b-8437-b674986881fe",
   "metadata": {},
   "outputs": [],
   "source": [
    "Q4.Ans- .py"
   ]
  },
  {
   "cell_type": "code",
   "execution_count": null,
   "id": "17c0db8e-57e9-4768-9e20-6af3a032aa94",
   "metadata": {},
   "outputs": [],
   "source": [
    "Q5.Ans- Python is an interpreted language"
   ]
  },
  {
   "cell_type": "code",
   "execution_count": null,
   "id": "c7c28e68-1073-4743-a3c9-17a1d754a3e4",
   "metadata": {},
   "outputs": [],
   "source": [
    "Q6.Ans -A Python program is constructed from code blocks. A block is a piece of Python program text that is executed as a unit. The following are blocks: a module, a function body, and a class definition."
   ]
  },
  {
   "cell_type": "code",
   "execution_count": null,
   "id": "28653c0c-3fc6-4728-8c4f-0d0487df0fa8",
   "metadata": {},
   "outputs": [],
   "source": [
    "Q7.Ans- #"
   ]
  },
  {
   "cell_type": "code",
   "execution_count": null,
   "id": "54aa0d62-240f-441e-a3f7-ed9c4a4f194f",
   "metadata": {},
   "outputs": [],
   "source": [
    "Q8.Ans-sys. version "
   ]
  },
  {
   "cell_type": "code",
   "execution_count": null,
   "id": "6ad654c3-32b8-415f-bc0f-1e4650496f36",
   "metadata": {},
   "outputs": [],
   "source": [
    "Q9.Ans -lambda"
   ]
  },
  {
   "cell_type": "code",
   "execution_count": null,
   "id": "81c5192a-f941-4264-adc4-9bd1c07dcdb7",
   "metadata": {},
   "outputs": [],
   "source": [
    "Q10.Ans-preferred installer program"
   ]
  },
  {
   "cell_type": "code",
   "execution_count": null,
   "id": "197d52a6-883f-4f3b-9b8a-81e6958ec7a8",
   "metadata": {},
   "outputs": [],
   "source": [
    "Q11.Ans-print( ) function.\n",
    "type( ) function.\n",
    "input( ) function."
   ]
  },
  {
   "cell_type": "code",
   "execution_count": null,
   "id": "e4c4685c-2476-4701-b2df-545cb637ac02",
   "metadata": {},
   "outputs": [],
   "source": [
    "Q12.Ans-An identifier can have a maximum length of 79 characters in Python. Python is one of the most popular programming languages."
   ]
  },
  {
   "cell_type": "code",
   "execution_count": null,
   "id": "58089015-cdab-45f6-855b-d691b13f0602",
   "metadata": {},
   "outputs": [],
   "source": [
    "Q13.Ans-Easy to Code. Python is a very high-level programming language,Easy to Read."
   ]
  },
  {
   "cell_type": "code",
   "execution_count": null,
   "id": "4a7d9c7b-8941-4f8a-8d21-81691c4c3e48",
   "metadata": {},
   "outputs": [],
   "source": [
    "Q14.Ans-Python uses a portion of the memory for internal use and non-object memory. Another part of the memory is used for Python object such as int, dict, list, etc. "
   ]
  },
  {
   "cell_type": "code",
   "execution_count": null,
   "id": "e58caf48-0dfa-4742-8cdb-c0d943ae388b",
   "metadata": {},
   "outputs": [],
   "source": [
    "Q15.Ans- 1)Open the official Python website in your web browser. Navigate to the Downloads tab for Windows.\n",
    "         2)Choose the latest Python 3 release. In our example, we choose the latest Python 3.7.3 version.\n",
    "        3)Click on the link to download Windows x86 executable installer if you are using a 32-bit installer. In case your Windows installation is a 64-bit system, then download Windows x86-64 executable installer."
   ]
  },
  {
   "cell_type": "code",
   "execution_count": null,
   "id": "631396ae-12dd-42eb-9bd8-bc14b84e252c",
   "metadata": {},
   "outputs": [],
   "source": [
    "Q16.Ans"
   ]
  }
 ],
 "metadata": {
  "kernelspec": {
   "display_name": "Python 3 (ipykernel)",
   "language": "python",
   "name": "python3"
  },
  "language_info": {
   "codemirror_mode": {
    "name": "ipython",
    "version": 3
   },
   "file_extension": ".py",
   "mimetype": "text/x-python",
   "name": "python",
   "nbconvert_exporter": "python",
   "pygments_lexer": "ipython3",
   "version": "3.10.8"
  }
 },
 "nbformat": 4,
 "nbformat_minor": 5
}
